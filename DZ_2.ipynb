{
 "cells": [
  {
   "cell_type": "code",
   "execution_count": 58,
   "id": "cd3669ea",
   "metadata": {},
   "outputs": [],
   "source": [
    "# Загружаем библиотеки\n",
    "import pandas as pd # Датафреймы pandas\n",
    "from surprise import SVD # Алгоритм сингулярного разложения\n",
    "from surprise import Dataset, Reader # Структуры данных для surprise\n",
    "from surprise import accuracy # Оценка точности моделей\n",
    "from surprise.model_selection.split import KFold # Кросс-валидация"
   ]
  },
  {
   "cell_type": "markdown",
   "id": "6d6469ab",
   "metadata": {},
   "source": [
    "#### Загрузка данных (MovieLens 1M)"
   ]
  },
  {
   "cell_type": "code",
   "execution_count": 21,
   "id": "b8550f49",
   "metadata": {},
   "outputs": [],
   "source": [
    "movies = pd.read_table('movies.dat', \n",
    "                       sep='::', \n",
    "                       header = None, \n",
    "                       names = ['MovieID', 'Title', 'Genres'], \n",
    "                       engine = 'python', \n",
    "                       encoding =  'ANSI')\n",
    "ratings = pd.read_table('ratings.dat', \n",
    "                       sep='::', \n",
    "                       header = None, \n",
    "                       names = ['UserID', 'MovieID', 'Rating', 'Timestamp'], \n",
    "                       engine = 'python', \n",
    "                       encoding =  'ANSI')\n",
    "users = pd.read_table('users.dat', \n",
    "                       sep='::', \n",
    "                       header = None, \n",
    "                       names = ['UserID', 'Gender', 'Age', 'Occupation', 'Zip-code'], \n",
    "                       engine = 'python', \n",
    "                       encoding =  'ANSI')"
   ]
  },
  {
   "cell_type": "markdown",
   "id": "c3ef293e",
   "metadata": {},
   "source": [
    "#### Обработка данных"
   ]
  },
  {
   "cell_type": "code",
   "execution_count": 36,
   "id": "06ba1817",
   "metadata": {},
   "outputs": [],
   "source": [
    "# Объединяем таблицы с названиями фильмов и рейтингами\n",
    "movies_with_ratings = movies.join(ratings.set_index('MovieID'), on = 'MovieID').reset_index(drop = True)\n",
    "# Отбрасываем строки с пропусками\n",
    "movies_with_ratings.dropna(inplace = True)"
   ]
  },
  {
   "cell_type": "code",
   "execution_count": 41,
   "id": "2cae5785",
   "metadata": {},
   "outputs": [],
   "source": [
    "# Формируем датасет для surprise\n",
    "dataset = pd.DataFrame({\n",
    "    'uid': movies_with_ratings['UserID'],\n",
    "    'iid': movies_with_ratings['Title'],\n",
    "    'rating': movies_with_ratings['Rating']\n",
    "})"
   ]
  },
  {
   "cell_type": "code",
   "execution_count": 44,
   "id": "c27d7062",
   "metadata": {},
   "outputs": [],
   "source": [
    "# Диапазон значений рейтинга\n",
    "reader = Reader(rating_scale = (ratings['Rating'].min(), ratings['Rating'].max()))"
   ]
  },
  {
   "cell_type": "code",
   "execution_count": 45,
   "id": "42d4cffa",
   "metadata": {},
   "outputs": [],
   "source": [
    "# Рабочий датасет в формате surprise\n",
    "data = Dataset.load_from_df(dataset, reader)"
   ]
  },
  {
   "cell_type": "markdown",
   "id": "3a9f136b",
   "metadata": {},
   "source": [
    "#### Модель SVD"
   ]
  },
  {
   "cell_type": "code",
   "execution_count": 65,
   "id": "d9d016a3",
   "metadata": {},
   "outputs": [],
   "source": [
    "# Итератор для разбивки данных на 5 частей\n",
    "data_folds = KFold(n_splits = 5, random_state = 42)"
   ]
  },
  {
   "cell_type": "code",
   "execution_count": 140,
   "id": "8cf1bb69",
   "metadata": {},
   "outputs": [],
   "source": [
    "# Вызываем алгоритм SVD\n",
    "algo = SVD(n_epochs = 75, n_factors = 40, lr_all = 0.002, reg_all = 0.03, random_state = 42)"
   ]
  },
  {
   "cell_type": "code",
   "execution_count": 142,
   "id": "0ad41b32",
   "metadata": {},
   "outputs": [
    {
     "name": "stdout",
     "output_type": "stream",
     "text": [
      "RMSE: 0.8641\n",
      "RMSE: 0.8619\n",
      "RMSE: 0.8626\n",
      "RMSE: 0.8616\n",
      "RMSE: 0.8617\n"
     ]
    }
   ],
   "source": [
    "# Перебираем фолды данных\n",
    "for trainset, testset in data_folds.split(data):\n",
    "    # Обучаем модель\n",
    "    algo.fit(trainset)\n",
    "    predictions = algo.test(testset)\n",
    "    # Выводим показатель точности\n",
    "    accuracy.rmse(predictions, verbose = True)"
   ]
  },
  {
   "cell_type": "code",
   "execution_count": 143,
   "id": "5af9b481",
   "metadata": {},
   "outputs": [],
   "source": [
    "# Полученные результаты удовлетворяют требованию RMSE <= 0.87"
   ]
  }
 ],
 "metadata": {
  "kernelspec": {
   "display_name": "Python 3",
   "language": "python",
   "name": "python3"
  },
  "language_info": {
   "codemirror_mode": {
    "name": "ipython",
    "version": 3
   },
   "file_extension": ".py",
   "mimetype": "text/x-python",
   "name": "python",
   "nbconvert_exporter": "python",
   "pygments_lexer": "ipython3",
   "version": "3.8.8"
  }
 },
 "nbformat": 4,
 "nbformat_minor": 5
}
